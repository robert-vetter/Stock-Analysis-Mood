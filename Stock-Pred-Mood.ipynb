{
 "cells": [
  {
   "cell_type": "code",
   "execution_count": 1,
   "id": "83944e84",
   "metadata": {},
   "outputs": [],
   "source": [
    "# when dealing with ModuleNotFoundError: write \"pip install 'module'\" in new cell, restart Kernel under \"Kernel/Restart\"\n",
    "# Tutorial: https://www.youtube.com/watch?v=PuZY9q-aKLw\n",
    "import numpy as np\n",
    "import matplotlib.pyplot as plt\n",
    "import pandas as pd\n",
    "import pandas_datareader as web\n",
    "import datetime as dt\n",
    "\n",
    "from sklearn.preprocessing import MinMaxScaler\n",
    "from tensorflow.keras.models import Sequential\n",
    "from tensorflow.keras.layers import Dense, Dropout, LSTM"
   ]
  },
  {
   "cell_type": "code",
   "execution_count": 2,
   "id": "7eae43c1",
   "metadata": {},
   "outputs": [],
   "source": [
    "company = 'AAPL'\n",
    "start = dt.datetime(2020, 1, 1)\n",
    "end = dt.datetime(2022, 1, 1)\n",
    "data = web.DataReader(company, 'yahoo', start, end)"
   ]
  },
  {
   "cell_type": "code",
   "execution_count": 3,
   "id": "8bbba5ab",
   "metadata": {},
   "outputs": [
    {
     "name": "stdout",
     "output_type": "stream",
     "text": [
      "Epoch 1/25\n",
      "14/14 [==============================] - 4s 35ms/step - loss: 0.1089\n",
      "Epoch 2/25\n",
      "14/14 [==============================] - 0s 33ms/step - loss: 0.0148\n",
      "Epoch 3/25\n",
      "14/14 [==============================] - 0s 34ms/step - loss: 0.0091\n",
      "Epoch 4/25\n",
      "14/14 [==============================] - 0s 33ms/step - loss: 0.0079\n",
      "Epoch 5/25\n",
      "14/14 [==============================] - 0s 33ms/step - loss: 0.0066\n",
      "Epoch 6/25\n",
      "14/14 [==============================] - 0s 34ms/step - loss: 0.0066\n",
      "Epoch 7/25\n",
      "14/14 [==============================] - 0s 33ms/step - loss: 0.0055\n",
      "Epoch 8/25\n",
      "14/14 [==============================] - 0s 33ms/step - loss: 0.0066\n",
      "Epoch 9/25\n",
      "14/14 [==============================] - 1s 40ms/step - loss: 0.0054\n",
      "Epoch 10/25\n",
      "14/14 [==============================] - 0s 32ms/step - loss: 0.0056\n",
      "Epoch 11/25\n",
      "14/14 [==============================] - 0s 32ms/step - loss: 0.0057\n",
      "Epoch 12/25\n",
      "14/14 [==============================] - 0s 33ms/step - loss: 0.0065\n",
      "Epoch 13/25\n",
      "14/14 [==============================] - 0s 34ms/step - loss: 0.0054\n",
      "Epoch 14/25\n",
      "14/14 [==============================] - 0s 34ms/step - loss: 0.0050\n",
      "Epoch 15/25\n",
      "14/14 [==============================] - 0s 32ms/step - loss: 0.0048\n",
      "Epoch 16/25\n",
      "14/14 [==============================] - 0s 34ms/step - loss: 0.0050\n",
      "Epoch 17/25\n",
      "14/14 [==============================] - 0s 34ms/step - loss: 0.0056\n",
      "Epoch 18/25\n",
      "14/14 [==============================] - 0s 34ms/step - loss: 0.0055\n",
      "Epoch 19/25\n",
      "14/14 [==============================] - 0s 33ms/step - loss: 0.0042\n",
      "Epoch 20/25\n",
      "14/14 [==============================] - 0s 34ms/step - loss: 0.0041\n",
      "Epoch 21/25\n",
      "14/14 [==============================] - 0s 34ms/step - loss: 0.0044\n",
      "Epoch 22/25\n",
      "14/14 [==============================] - 0s 34ms/step - loss: 0.0051\n",
      "Epoch 23/25\n",
      "14/14 [==============================] - 0s 35ms/step - loss: 0.0047\n",
      "Epoch 24/25\n",
      "14/14 [==============================] - 0s 35ms/step - loss: 0.0043\n",
      "Epoch 25/25\n",
      "14/14 [==============================] - 0s 34ms/step - loss: 0.0053\n"
     ]
    },
    {
     "data": {
      "text/plain": [
       "<keras.callbacks.History at 0x21b8d23de80>"
      ]
     },
     "execution_count": 3,
     "metadata": {},
     "output_type": "execute_result"
    }
   ],
   "source": [
    "# prepare for neural network\n",
    "# convert all values to numbers between 0 and 1\n",
    "scaler = MinMaxScaler(feature_range=(0, 1))\n",
    "scaled_data = scaler.fit_transform(data['Close'].values.reshape(-1, 1))\n",
    "\n",
    "prediction_days = 60\n",
    "x_train = []\n",
    "y_train = []\n",
    "\n",
    "for x in range(prediction_days, len(scaled_data)):\n",
    "    x_train.append(scaled_data[x-prediction_days:x, 0])\n",
    "    y_train.append(scaled_data[x, 0])\n",
    "    \n",
    "x_train, y_train = np.array(x_train), np.array(y_train)\n",
    "x_train = np.reshape(x_train, (x_train.shape[0], x_train.shape[1], 1))\n",
    "\n",
    "# Build model\n",
    "model = Sequential()\n",
    "\n",
    "model.add(LSTM(units=50, return_sequences=True, input_shape=(x_train.shape[1], 1)))\n",
    "model.add(Dropout(0.2))\n",
    "model.add(LSTM(units=50, return_sequences=True))\n",
    "model.add(Dropout(0.2))\n",
    "model.add(LSTM(units = 50))\n",
    "model.add(Dropout(0.2))\n",
    "model.add(Dense(units=1)) # Prediction of next closing price\n",
    "\n",
    "model.compile(optimizer='adam', loss='mean_squared_error')\n",
    "model.fit(x_train, y_train, epochs=25, batch_size=32)"
   ]
  },
  {
   "cell_type": "code",
   "execution_count": 4,
   "id": "510a70b1",
   "metadata": {},
   "outputs": [],
   "source": [
    "# test model accuracy on existing data\n",
    "test_start = dt.datetime(2020, 1, 1)\n",
    "test_end = dt.datetime.now()\n",
    "\n",
    "test_data = web.DataReader(company, 'yahoo', test_start, test_end)\n",
    "# current data\n",
    "actual_price = test_data['Close'].values\n",
    "\n",
    "total_dataset = pd.concat((data['Close'], test_data['Close']), axis=0)\n",
    "\n",
    "model_inputs = total_dataset[len(total_dataset) - len(test_data) - prediction_days:].values\n",
    "model_inputs = model_inputs.reshape(-1, 1)\n",
    "model_inputs = scaler.transform(model_inputs)"
   ]
  },
  {
   "cell_type": "code",
   "execution_count": 5,
   "id": "c5d29bd6",
   "metadata": {},
   "outputs": [
    {
     "name": "stdout",
     "output_type": "stream",
     "text": [
      "24/24 [==============================] - 1s 13ms/step\n"
     ]
    },
    {
     "data": {
      "image/png": "[encoded data removed]",
      "text/plain": [
       "<Figure size 640x480 with 1 Axes>"
      ]
     },
     "metadata": {},
     "output_type": "display_data"
    }
   ],
   "source": [
    "# make predictions on test data\n",
    "x_test = []\n",
    "\n",
    "for x in range(prediction_days, len(model_inputs)):\n",
    "    x_test.append(model_inputs[x-prediction_days:x, 0])\n",
    "    \n",
    "x_test = np.array(x_test)\n",
    "x_test = np.reshape(x_test, (x_test.shape[0], x_test.shape[1], 1))\n",
    "\n",
    "predicted_prices = model.predict(x_test)\n",
    "predicted_prcies = scaler.inverse_transform(predicted_prices)\n",
    "\n",
    "plt.plot(actual_price, color='black', label=f\"Actual {company} Price\")\n",
    "plt.plot(predicted_prices, color='green', label=f\"Predicted {company} Price\")\n",
    "plt.title(f\"{company} Share Price\")\n",
    "plt.xlabel(\"Time\")\n",
    "plt.ylabel(f\"{company} Share Price\")\n",
    "plt.legend()\n",
    "plt.show()"
   ]
  },
  {
   "cell_type": "code",
   "execution_count": 6,
   "id": "3d23b309",
   "metadata": {},
   "outputs": [
    {
     "name": "stdout",
     "output_type": "stream",
     "text": [
      "1/1 [==============================] - 1s 760ms/step\n",
      "Prediction: [[131.62865]]\n"
     ]
    }
   ],
   "source": [
    "# predict next day\n",
    "real_data = [model_inputs[len(model_inputs) + 1 - prediction_days:len(model_inputs+1), 0]]\n",
    "real_data = np.array(real_data)\n",
    "real_data = np.reshape(real_data, (real_data.shape[0], real_data.shape[1], 1))\n",
    "\n",
    "prediction = model.predict(real_data)\n",
    "prediction = scaler.inverse_transform(prediction)\n",
    "print(f\"Prediction: {prediction}\")"
   ]
  },
  {
   "cell_type": "code",
   "execution_count": null,
   "id": "c436c808",
   "metadata": {},
   "outputs": [],
   "source": []
  },
  {
   "cell_type": "code",
   "execution_count": null,
   "id": "c003ab5a",
   "metadata": {},
   "outputs": [],
   "source": []
  },
  {
   "cell_type": "code",
   "execution_count": null,
   "id": "d2c04069",
   "metadata": {},
   "outputs": [],
   "source": []
  }
 ],
 "metadata": {
  "kernelspec": {
   "display_name": "Python 3 (ipykernel)",
   "language": "python",
   "name": "python3"
  },
  "language_info": {
   "codemirror_mode": {
    "name": "ipython",
    "version": 3
   },
   "file_extension": ".py",
   "mimetype": "text/x-python",
   "name": "python",
   "nbconvert_exporter": "python",
   "pygments_lexer": "ipython3",
   "version": "3.9.13"
  }
 },
 "nbformat": 4,
 "nbformat_minor": 5
}
